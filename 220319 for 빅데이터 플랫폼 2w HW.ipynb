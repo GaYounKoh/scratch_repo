{
 "cells": [
  {
   "cell_type": "code",
   "execution_count": 6,
   "metadata": {},
   "outputs": [
    {
     "name": "stdout",
     "output_type": "stream",
     "text": [
      "n 1\n",
      "sum 0\n",
      "n 2\n",
      "sum 1\n",
      "n 3\n",
      "sum 3\n",
      "최종 n 4\n",
      "최종 sum 6\n"
     ]
    }
   ],
   "source": [
    "# while문이 정말 3번 도는 가에 대한 의문을 풀기 위한 실행.\n",
    "n = 1\n",
    "sum = 0\n",
    "while n<=3:\n",
    "    print('n', n)\n",
    "    print('sum', sum)\n",
    "    sum = sum+n\n",
    "    n = n+1\n",
    "print('최종 n', n)\n",
    "print('최종 sum', sum)"
   ]
  },
  {
   "cell_type": "code",
   "execution_count": null,
   "metadata": {},
   "outputs": [],
   "source": []
  }
 ],
 "metadata": {
  "interpreter": {
   "hash": "e4cfef919f511c0e3a05919ed86dab4fa959f970f2723dae87eeb918be14f5f0"
  },
  "kernelspec": {
   "display_name": "Python 3.8.8 ('base')",
   "language": "python",
   "name": "python3"
  },
  "language_info": {
   "codemirror_mode": {
    "name": "ipython",
    "version": 3
   },
   "file_extension": ".py",
   "mimetype": "text/x-python",
   "name": "python",
   "nbconvert_exporter": "python",
   "pygments_lexer": "ipython3",
   "version": "3.8.8"
  },
  "orig_nbformat": 4
 },
 "nbformat": 4,
 "nbformat_minor": 2
}
