{
 "cells": [
  {
   "cell_type": "markdown",
   "metadata": {},
   "source": [
    "실수로 영어로 길게 쳤을 때 한글로 변환해주는 코드 <br>\n",
    "(혹은 한국어 to 영어)\n",
    "\n",
    "사전으로 만들 수 있음!"
   ]
  },
  {
   "cell_type": "markdown",
   "metadata": {},
   "source": [
    "자판의 영어를 key, 그에 대응하는 한국어를 value로 잡는다. (혹은 반대로) <br>\n",
    "```char = dic[char]``` # 아주 간단하다."
   ]
  },
  {
   "cell_type": "code",
   "execution_count": null,
   "metadata": {},
   "outputs": [],
   "source": [
    "eng2kor = {'q':'ㅂ',\n",
    "'w':'ㅈ',\n",
    "'e':'ㄷ',\n",
    "'r':'ㄱ',\n",
    "'t':'ㅅ',\n",
    "'y':'ㅛ',\n",
    "'u':'ㅕ',\n",
    "'i':'ㅑ',\n",
    "'o':'ㅐ',\n",
    "'p':'ㅔ',\n",
    "'a':'ㅁ',\n",
    "'s':'ㄴ',\n",
    "'d':'ㅇ',\n",
    "'f':'ㄹ',\n",
    "'g':'ㅎ',\n",
    "'h':'ㅗ',\n",
    "'j':'ㅓ',\n",
    "'k':'ㅏ',\n",
    "'l':'ㅣ',\n",
    "'z':'ㅋ',\n",
    "'x':'ㅌ',\n",
    "'c':'ㅊ',\n",
    "'v':'ㅍ',\n",
    "'b':'ㅠ',\n",
    "'n':'ㅜ',\n",
    "'m':'ㅡ'}"
   ]
  },
  {
   "cell_type": "code",
   "execution_count": null,
   "metadata": {},
   "outputs": [],
   "source": [
    "kor2eng = {list(eng2kor.values())[i]:list(eng2kor.keys())[i] for i in range(len(eng2kor.values()))}"
   ]
  },
  {
   "cell_type": "code",
   "execution_count": null,
   "metadata": {},
   "outputs": [],
   "source": [
    "kor2eng"
   ]
  },
  {
   "cell_type": "code",
   "execution_count": null,
   "metadata": {},
   "outputs": [],
   "source": [
    "text = 'ㅗㄷㅣㅣㅐ'\n",
    "chng = ''\n",
    "for i in range(len(text)):\n",
    "    chng += kor2eng[text[i]]\n",
    "chng"
   ]
  }
 ],
 "metadata": {
  "language_info": {
   "name": "python"
  },
  "orig_nbformat": 4
 },
 "nbformat": 4,
 "nbformat_minor": 2
}
